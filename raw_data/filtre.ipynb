{
 "cells": [
  {
   "cell_type": "markdown",
   "metadata": {},
   "source": [
    "## Programme pour nettoyer les doublons (biens immobiliers ayant le même nom)"
   ]
  },
  {
   "cell_type": "code",
   "execution_count": 7,
   "metadata": {},
   "outputs": [
    {
     "name": "stderr",
     "output_type": "stream",
     "text": [
      "C:\\Users\\William\\AppData\\Local\\Temp\\ipykernel_3628\\794786532.py:4: DtypeWarning: Columns (35,36) have mixed types. Specify dtype option on import or set low_memory=False.\n",
      "  df = pd.read_csv(\"paris_sans_doublons.csv\")\n"
     ]
    }
   ],
   "source": [
    "import pandas as pd\n",
    "\n",
    "# Charger le CSV dans un DataFrame\n",
    "df = pd.read_csv(\"paris_sans_doublons.csv\")\n",
    "\n",
    "# Supprimer les lignes où le nombre de pièces est égal à 0\n",
    "df = df[df['nombre_pieces_principales'] != 0]\n",
    "\n",
    "# Sauvegarder le DataFrame résultant dans un nouveau fichier CSV\n",
    "df.to_csv(\"paris_sans_doublons_et_pieces_non_nulles.csv\", index=False)\n"
   ]
  },
  {
   "cell_type": "code",
   "execution_count": 10,
   "metadata": {},
   "outputs": [],
   "source": [
    "import pandas as pd\n",
    "\n",
    "# Charger le CSV dans un DataFrame\n",
    "df = pd.read_csv(\"paris_sans_doublons_et_pieces_non_nulles.csv\")\n",
    "\n",
    "# Supprimer toutes les lignes où la colonne 'type_local' contient 'Dépendance'\n",
    "df = df[df['type_local'] != 'Dépendance']\n",
    "\n",
    "# Supprimer toutes les lignes où la colonne 'type_local' contient 'Local industriel. commercial ou assimilé'\n",
    "df = df[df['type_local'] != 'Local industriel. commercial ou assimilé']\n",
    "\n",
    "# Supprimer toutes les lignes où la colonne 'nature_mutation' n'est pas égale à 'Vente'\n",
    "df = df[df['nature_mutation'] == 'Vente']\n",
    "\n",
    "# Liste des colonnes à conserver\n",
    "colonnes_a_conserver = [\n",
    "    'id_mutation',\n",
    "    'type_local',\n",
    "    'valeur_fonciere',\n",
    "    'adresse_numero',\n",
    "    'adresse_nom_voie',\n",
    "    'code_postal',\n",
    "    'surface_reelle_bati',\n",
    "    'nombre_pieces_principales',\n",
    "    'longitude',\n",
    "    'latitude'\n",
    "]\n",
    "\n",
    "# Supprimer toutes les colonnes qui ne sont pas dans la liste\n",
    "df = df[colonnes_a_conserver]\n",
    "\n",
    "# Supprimer toutes les lignes avec des données manquantes\n",
    "df = df.dropna()\n",
    "\n",
    "# Sauvegarder le DataFrame résultant dans un nouveau fichier CSV\n",
    "df.to_csv(\"75_cleaned.csv\", index=False)"
   ]
  },
  {
   "cell_type": "code",
   "execution_count": 11,
   "metadata": {},
   "outputs": [],
   "source": [
    "import pandas as pd\n",
    "\n",
    "# Charger le CSV dans un DataFrame\n",
    "df = pd.read_csv(\"75_cleaned.csv\")\n",
    "\n",
    "# Supprimer les lignes où 7000 * surface_reelle_bati > valeur_fonciere\n",
    "df = df.drop(df[df['valeur_fonciere'] < 7000 * df['surface_reelle_bati']].index)\n",
    "\n",
    "# Réindexer le DataFrame\n",
    "df.reset_index(drop=True, inplace=True)\n",
    "\n",
    "# Sauvegarder le DataFrame résultant dans un nouveau fichier CSV\n",
    "df.to_csv(\"paris_filtre.csv\", index=False)\n"
   ]
  },
  {
   "cell_type": "code",
   "execution_count": null,
   "metadata": {},
   "outputs": [],
   "source": []
  }
 ],
 "metadata": {
  "kernelspec": {
   "display_name": "Python 3",
   "language": "python",
   "name": "python3"
  },
  "language_info": {
   "codemirror_mode": {
    "name": "ipython",
    "version": 3
   },
   "file_extension": ".py",
   "mimetype": "text/x-python",
   "name": "python",
   "nbconvert_exporter": "python",
   "pygments_lexer": "ipython3",
   "version": "3.11.2"
  }
 },
 "nbformat": 4,
 "nbformat_minor": 2
}
